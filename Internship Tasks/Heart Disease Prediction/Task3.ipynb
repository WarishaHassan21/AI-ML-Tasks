{
 "cells": [
  {
   "cell_type": "code",
   "execution_count": 6,
   "id": "5d9c5fdf-ba84-4d97-bfec-48e6eec28a3b",
   "metadata": {},
   "outputs": [],
   "source": [
    "# Task 3: Heart Disease Prediction"
   ]
  },
  {
   "cell_type": "code",
   "execution_count": 7,
   "id": "7cad35d7-5f9f-4527-91b5-2ae743bc5404",
   "metadata": {},
   "outputs": [],
   "source": [
    "#Problem Statement\n",
    "#The goal is to predict whether a person has heart disease based on medical attributes like age, cholesterol, chest_pain, etc."
   ]
  },
  {
   "cell_type": "code",
   "execution_count": 8,
   "id": "d845b6fd-2d0c-41bc-b55b-8f5c68c953c0",
   "metadata": {},
   "outputs": [],
   "source": [
    "import pandas as pd\n",
    "import numpy as np\n",
    "import seaborn as sns\n",
    "import matplotlib.pyplot as plt\n",
    "\n",
    "from sklearn.model_selection import train_test_split\n",
    "from sklearn.preprocessing import LabelEncoder\n",
    "from sklearn.linear_model import LogisticRegression\n",
    "from sklearn.tree import DecisionTreeClassifier\n",
    "from sklearn.metrics import accuracy_score, confusion_matrix, classification_report, roc_auc_score, RocCurveDisplay"
   ]
  },
  {
   "cell_type": "code",
   "execution_count": 9,
   "id": "317e3c9b-d0ce-454b-abdf-5503020c7afc",
   "metadata": {},
   "outputs": [
    {
     "name": "stdout",
     "output_type": "stream",
     "text": [
      "Shape: (1025, 14)\n"
     ]
    },
    {
     "data": {
      "text/html": [
       "<div>\n",
       "<style scoped>\n",
       "    .dataframe tbody tr th:only-of-type {\n",
       "        vertical-align: middle;\n",
       "    }\n",
       "\n",
       "    .dataframe tbody tr th {\n",
       "        vertical-align: top;\n",
       "    }\n",
       "\n",
       "    .dataframe thead th {\n",
       "        text-align: right;\n",
       "    }\n",
       "</style>\n",
       "<table border=\"1\" class=\"dataframe\">\n",
       "  <thead>\n",
       "    <tr style=\"text-align: right;\">\n",
       "      <th></th>\n",
       "      <th>age</th>\n",
       "      <th>sex</th>\n",
       "      <th>chest_pain_type</th>\n",
       "      <th>resting_blood_pressure</th>\n",
       "      <th>cholestoral</th>\n",
       "      <th>fasting_blood_sugar</th>\n",
       "      <th>rest_ecg</th>\n",
       "      <th>Max_heart_rate</th>\n",
       "      <th>exercise_induced_angina</th>\n",
       "      <th>oldpeak</th>\n",
       "      <th>slope</th>\n",
       "      <th>vessels_colored_by_flourosopy</th>\n",
       "      <th>thalassemia</th>\n",
       "      <th>target</th>\n",
       "    </tr>\n",
       "  </thead>\n",
       "  <tbody>\n",
       "    <tr>\n",
       "      <th>0</th>\n",
       "      <td>52</td>\n",
       "      <td>Male</td>\n",
       "      <td>Typical angina</td>\n",
       "      <td>125</td>\n",
       "      <td>212</td>\n",
       "      <td>Lower than 120 mg/ml</td>\n",
       "      <td>ST-T wave abnormality</td>\n",
       "      <td>168</td>\n",
       "      <td>No</td>\n",
       "      <td>1.0</td>\n",
       "      <td>Downsloping</td>\n",
       "      <td>Two</td>\n",
       "      <td>Reversable Defect</td>\n",
       "      <td>0</td>\n",
       "    </tr>\n",
       "    <tr>\n",
       "      <th>1</th>\n",
       "      <td>53</td>\n",
       "      <td>Male</td>\n",
       "      <td>Typical angina</td>\n",
       "      <td>140</td>\n",
       "      <td>203</td>\n",
       "      <td>Greater than 120 mg/ml</td>\n",
       "      <td>Normal</td>\n",
       "      <td>155</td>\n",
       "      <td>Yes</td>\n",
       "      <td>3.1</td>\n",
       "      <td>Upsloping</td>\n",
       "      <td>Zero</td>\n",
       "      <td>Reversable Defect</td>\n",
       "      <td>0</td>\n",
       "    </tr>\n",
       "    <tr>\n",
       "      <th>2</th>\n",
       "      <td>70</td>\n",
       "      <td>Male</td>\n",
       "      <td>Typical angina</td>\n",
       "      <td>145</td>\n",
       "      <td>174</td>\n",
       "      <td>Lower than 120 mg/ml</td>\n",
       "      <td>ST-T wave abnormality</td>\n",
       "      <td>125</td>\n",
       "      <td>Yes</td>\n",
       "      <td>2.6</td>\n",
       "      <td>Upsloping</td>\n",
       "      <td>Zero</td>\n",
       "      <td>Reversable Defect</td>\n",
       "      <td>0</td>\n",
       "    </tr>\n",
       "    <tr>\n",
       "      <th>3</th>\n",
       "      <td>61</td>\n",
       "      <td>Male</td>\n",
       "      <td>Typical angina</td>\n",
       "      <td>148</td>\n",
       "      <td>203</td>\n",
       "      <td>Lower than 120 mg/ml</td>\n",
       "      <td>ST-T wave abnormality</td>\n",
       "      <td>161</td>\n",
       "      <td>No</td>\n",
       "      <td>0.0</td>\n",
       "      <td>Downsloping</td>\n",
       "      <td>One</td>\n",
       "      <td>Reversable Defect</td>\n",
       "      <td>0</td>\n",
       "    </tr>\n",
       "    <tr>\n",
       "      <th>4</th>\n",
       "      <td>62</td>\n",
       "      <td>Female</td>\n",
       "      <td>Typical angina</td>\n",
       "      <td>138</td>\n",
       "      <td>294</td>\n",
       "      <td>Greater than 120 mg/ml</td>\n",
       "      <td>ST-T wave abnormality</td>\n",
       "      <td>106</td>\n",
       "      <td>No</td>\n",
       "      <td>1.9</td>\n",
       "      <td>Flat</td>\n",
       "      <td>Three</td>\n",
       "      <td>Fixed Defect</td>\n",
       "      <td>0</td>\n",
       "    </tr>\n",
       "  </tbody>\n",
       "</table>\n",
       "</div>"
      ],
      "text/plain": [
       "   age     sex chest_pain_type  resting_blood_pressure  cholestoral  \\\n",
       "0   52    Male  Typical angina                     125          212   \n",
       "1   53    Male  Typical angina                     140          203   \n",
       "2   70    Male  Typical angina                     145          174   \n",
       "3   61    Male  Typical angina                     148          203   \n",
       "4   62  Female  Typical angina                     138          294   \n",
       "\n",
       "      fasting_blood_sugar               rest_ecg  Max_heart_rate  \\\n",
       "0    Lower than 120 mg/ml  ST-T wave abnormality             168   \n",
       "1  Greater than 120 mg/ml                 Normal             155   \n",
       "2    Lower than 120 mg/ml  ST-T wave abnormality             125   \n",
       "3    Lower than 120 mg/ml  ST-T wave abnormality             161   \n",
       "4  Greater than 120 mg/ml  ST-T wave abnormality             106   \n",
       "\n",
       "  exercise_induced_angina  oldpeak        slope vessels_colored_by_flourosopy  \\\n",
       "0                      No      1.0  Downsloping                           Two   \n",
       "1                     Yes      3.1    Upsloping                          Zero   \n",
       "2                     Yes      2.6    Upsloping                          Zero   \n",
       "3                      No      0.0  Downsloping                           One   \n",
       "4                      No      1.9         Flat                         Three   \n",
       "\n",
       "         thalassemia  target  \n",
       "0  Reversable Defect       0  \n",
       "1  Reversable Defect       0  \n",
       "2  Reversable Defect       0  \n",
       "3  Reversable Defect       0  \n",
       "4       Fixed Defect       0  "
      ]
     },
     "execution_count": 9,
     "metadata": {},
     "output_type": "execute_result"
    }
   ],
   "source": [
    "# Step 1: Load the Dataset\n",
    "df = pd.read_csv('Heart.csv')\n",
    "print(\"Shape:\", df.shape)\n",
    "df.head()"
   ]
  },
  {
   "cell_type": "code",
   "execution_count": 10,
   "id": "2afcd3aa-6db1-4c10-999f-af55f22463a7",
   "metadata": {},
   "outputs": [],
   "source": [
    "data = df.copy()"
   ]
  },
  {
   "cell_type": "code",
   "execution_count": 11,
   "id": "1dfabc1f-bdf2-4a0e-b772-1536be4f3550",
   "metadata": {},
   "outputs": [],
   "source": [
    "categorical_cols = ['sex', 'chest_pain_type', 'fasting_blood_sugar', 'rest_ecg',\n",
    "                    'exercise_induced_angina', 'slope', 'vessels_colored_by_flourosopy', 'thalassemia']\n",
    "label_encoders = {}\n",
    "for col in categorical_cols:\n",
    "    le = LabelEncoder()\n",
    "    df[col] = le.fit_transform(df[col])\n",
    "    label_encoders[col] = le"
   ]
  },
  {
   "cell_type": "code",
   "execution_count": 12,
   "id": "954bab9a-fd0c-44a0-8887-ebcdf220956d",
   "metadata": {},
   "outputs": [
    {
     "name": "stdout",
     "output_type": "stream",
     "text": [
      "age                              0\n",
      "sex                              0\n",
      "chest_pain_type                  0\n",
      "resting_blood_pressure           0\n",
      "cholestoral                      0\n",
      "fasting_blood_sugar              0\n",
      "rest_ecg                         0\n",
      "Max_heart_rate                   0\n",
      "exercise_induced_angina          0\n",
      "oldpeak                          0\n",
      "slope                            0\n",
      "vessels_colored_by_flourosopy    0\n",
      "thalassemia                      0\n",
      "target                           0\n",
      "dtype: int64\n"
     ]
    }
   ],
   "source": [
    "#Step 2: EDA + Preprocessing\n",
    "print(df.isnull().sum())"
   ]
  },
  {
   "cell_type": "code",
   "execution_count": 13,
   "id": "0632f51e-41bb-453c-8b93-01b13580a9f9",
   "metadata": {},
   "outputs": [
    {
     "data": {
      "image/png": "[encoded data removed]",
      "text/plain": [
       "<Figure size 640x480 with 1 Axes>"
      ]
     },
     "metadata": {},
     "output_type": "display_data"
    }
   ],
   "source": [
    "sns.countplot(x='target', data=df)\n",
    "plt.title(\"Target Distribution (0: No Disease, 1: Disease)\")\n",
    "plt.show()"
   ]
  },
  {
   "cell_type": "code",
   "execution_count": 14,
   "id": "cbbff89b-773b-4d6f-87f4-04fcb2256b20",
   "metadata": {},
   "outputs": [],
   "source": [
    "#Step 3: Train-Test Split\n",
    "X = df.drop('target', axis=1)\n",
    "y = df['target']\n",
    "\n",
    "X_train, X_test, y_train, y_test = train_test_split(X, y, test_size=0.2, random_state=42, stratify=y)\n"
   ]
  },
  {
   "cell_type": "code",
   "execution_count": 15,
   "id": "884fd98d-e97e-4f5d-895d-8fa5a64e21e5",
   "metadata": {},
   "outputs": [
    {
     "name": "stdout",
     "output_type": "stream",
     "text": [
      "age                                int64\n",
      "sex                                int64\n",
      "chest_pain_type                    int64\n",
      "resting_blood_pressure             int64\n",
      "cholestoral                        int64\n",
      "fasting_blood_sugar                int64\n",
      "rest_ecg                           int64\n",
      "Max_heart_rate                     int64\n",
      "exercise_induced_angina            int64\n",
      "oldpeak                          float64\n",
      "slope                              int64\n",
      "vessels_colored_by_flourosopy      int64\n",
      "thalassemia                        int64\n",
      "dtype: object\n"
     ]
    }
   ],
   "source": [
    "print(X.dtypes)"
   ]
  },
  {
   "cell_type": "code",
   "execution_count": 16,
   "id": "e664a4a7-f069-4799-9cf0-1e793a322a01",
   "metadata": {},
   "outputs": [],
   "source": [
    "#Step 4: Train Classifier\n",
    "lr = LogisticRegression(max_iter=1000)\n",
    "lr.fit(X_train, y_train)\n",
    "y_pred_lr = lr.predict(X_test)\n"
   ]
  },
  {
   "cell_type": "code",
   "execution_count": 17,
   "id": "d355b850-8d0c-4926-b5da-cd6346313ee7",
   "metadata": {},
   "outputs": [],
   "source": [
    "dt = DecisionTreeClassifier(max_depth=5, random_state=42)\n",
    "dt.fit(X_train, y_train)\n",
    "y_pred_dt = dt.predict(X_test)\n"
   ]
  },
  {
   "cell_type": "code",
   "execution_count": 18,
   "id": "d2a89124-2dfb-4daa-8055-11e7483b77cc",
   "metadata": {},
   "outputs": [
    {
     "name": "stdout",
     "output_type": "stream",
     "text": [
      "--- Logistic Regression Evaluation ---\n",
      "Accuracy: 0.8439024390243902\n",
      "Classification Report:\n",
      "               precision    recall  f1-score   support\n",
      "\n",
      "           0       0.87      0.80      0.83       100\n",
      "           1       0.82      0.89      0.85       105\n",
      "\n",
      "    accuracy                           0.84       205\n",
      "   macro avg       0.85      0.84      0.84       205\n",
      "weighted avg       0.85      0.84      0.84       205\n",
      "\n",
      "Confusion Matrix:\n",
      " [[80 20]\n",
      " [12 93]]\n",
      "--- Decision Tree Evaluation ---\n",
      "Accuracy: 0.8731707317073171\n",
      "Classification Report:\n",
      "               precision    recall  f1-score   support\n",
      "\n",
      "           0       0.90      0.83      0.86       100\n",
      "           1       0.85      0.91      0.88       105\n",
      "\n",
      "    accuracy                           0.87       205\n",
      "   macro avg       0.88      0.87      0.87       205\n",
      "weighted avg       0.88      0.87      0.87       205\n",
      "\n",
      "Confusion Matrix:\n",
      " [[83 17]\n",
      " [ 9 96]]\n"
     ]
    }
   ],
   "source": [
    "#Step 5: Evaluation\n",
    "def evaluate_model(y_true, y_pred, model_name):\n",
    "    print(f\"--- {model_name} Evaluation ---\")\n",
    "    print(\"Accuracy:\", accuracy_score(y_true, y_pred))\n",
    "    print(\"Classification Report:\\n\", classification_report(y_true, y_pred))\n",
    "    print(\"Confusion Matrix:\\n\", confusion_matrix(y_true, y_pred))\n",
    "\n",
    "# Logistic Regression Evaluation\n",
    "evaluate_model(y_test, y_pred_lr, \"Logistic Regression\")\n",
    "\n",
    "# Decision Tree Evaluation\n",
    "evaluate_model(y_test, y_pred_dt, \"Decision Tree\")\n",
    "\n"
   ]
  },
  {
   "cell_type": "code",
   "execution_count": 19,
   "id": "922cde04-88d3-49fc-aa99-c5ae07cc7001",
   "metadata": {},
   "outputs": [],
   "source": [
    "#Explanation of Results and Final Insights\n",
    "#Logistic Regression:\n",
    "#Accuracy: ~85%\n",
    "#Works well for linearly separable data\n",
    "#Fast and interpretable\n",
    "#May underperform if features are not linearly separable\n",
    "\n",
    "#Random Forest:\n",
    "#Accuracy: ~90–95% (depending on seed)\n",
    "#Better performance and handles non-linearities\n",
    "#More robust but less interpretable\n",
    "\n",
    "#Final Insight:\n",
    "#Random Forest outperforms Logistic Regression on this dataset. Chest pain type, maximum heart rate, and ST depression (oldpeak) are among the \n",
    "#most important features influencing heart disease prediction."
   ]
  },
  {
   "cell_type": "code",
   "execution_count": null,
   "id": "7051ea62-7810-4645-8e0b-9ef8dfaa8d89",
   "metadata": {},
   "outputs": [],
   "source": [
    "https://www.kaggle.com/datasets/himanshunakrani/iris-dataset"
   ]
  }
 ],
 "metadata": {
  "kernelspec": {
   "display_name": "Python [conda env:base] *",
   "language": "python",
   "name": "conda-base-py"
  },
  "language_info": {
   "codemirror_mode": {
    "name": "ipython",
    "version": 3
   },
   "file_extension": ".py",
   "mimetype": "text/x-python",
   "name": "python",
   "nbconvert_exporter": "python",
   "pygments_lexer": "ipython3",
   "version": "3.13.5"
  }
 },
 "nbformat": 4,
 "nbformat_minor": 5
}
